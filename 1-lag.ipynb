{
 "cells": [
  {
   "cell_type": "code",
   "execution_count": 3,
   "id": "2c9a6a83",
   "metadata": {},
   "outputs": [],
   "source": [
    "from math import sqrt\n",
    "from numpy import concatenate\n",
    "from matplotlib import pyplot\n",
    "from pandas import read_csv\n",
    "from pandas import DataFrame\n",
    "from pandas import concat\n",
    "from sklearn.preprocessing import MinMaxScaler\n",
    "from sklearn.preprocessing import LabelEncoder\n",
    "from sklearn.metrics import mean_squared_error\n",
    "from keras.models import Sequential\n",
    "from keras.layers import Dense\n",
    "from keras.layers import LSTM"
   ]
  },
  {
   "cell_type": "code",
   "execution_count": 4,
   "id": "e3a4e1a5",
   "metadata": {},
   "outputs": [],
   "source": [
    "# convert series to supervised learning\n",
    "def series_to_supervised(data, n_in=1, n_out=1, dropnan=True):\n",
    "\tn_vars = 1 if type(data) is list else data.shape[1]\n",
    "\tdf = DataFrame(data)\n",
    "\tcols, names = list(), list()\n",
    "\t# input sequence (t-n, ... t-1)\n",
    "\tfor i in range(n_in, 0, -1):\n",
    "\t\tcols.append(df.shift(i))\n",
    "\t\tnames += [('var%d(t-%d)' % (j+1, i)) for j in range(n_vars)]\n",
    "\t# forecast sequence (t, t+1, ... t+n)\n",
    "\tfor i in range(0, n_out):\n",
    "\t\tcols.append(df.shift(-i))\n",
    "\t\tif i == 0:\n",
    "\t\t\tnames += [('var%d(t)' % (j+1)) for j in range(n_vars)]\n",
    "\t\telse:\n",
    "\t\t\tnames += [('var%d(t+%d)' % (j+1, i)) for j in range(n_vars)]\n",
    "\t# put it all together\n",
    "\tagg = concat(cols, axis=1)\n",
    "\tagg.columns = names\n",
    "\t# drop rows with NaN values\n",
    "\tif dropnan:\n",
    "\t\tagg.dropna(inplace=True)\n",
    "\treturn agg"
   ]
  },
  {
   "cell_type": "code",
   "execution_count": 11,
   "id": "d8878473",
   "metadata": {},
   "outputs": [
    {
     "name": "stdout",
     "output_type": "stream",
     "text": [
      "                     pollution  dew  temp   press wnd_dir  wnd_spd  snow  rain\n",
      "date                                                                          \n",
      "2010-01-02 00:00:00      129.0  -16  -4.0  1020.0      SE     1.79     0     0\n",
      "2010-01-02 01:00:00      148.0  -15  -4.0  1020.0      SE     2.68     0     0\n",
      "2010-01-02 02:00:00      159.0  -11  -5.0  1021.0      SE     3.57     0     0\n",
      "2010-01-02 03:00:00      181.0   -7  -5.0  1022.0      SE     5.36     1     0\n",
      "2010-01-02 04:00:00      138.0   -7  -5.0  1022.0      SE     6.25     2     0\n"
     ]
    }
   ],
   "source": [
    "from pandas import read_csv\n",
    "from datetime import datetime\n",
    "# load data\n",
    "def parse(x):\n",
    "\treturn datetime.strptime(x, '%Y %m %d %H')\n",
    "dataset = read_csv('raw.csv',  parse_dates = [['year', 'month', 'day', 'hour']], index_col=0, date_parser=parse)\n",
    "dataset.drop('No', axis=1, inplace=True)\n",
    "# manually specify column names\n",
    "dataset.columns = ['pollution', 'dew', 'temp', 'press', 'wnd_dir', 'wnd_spd', 'snow', 'rain']\n",
    "dataset.index.name = 'date'\n",
    "# mark all NA values with 0\n",
    "dataset['pollution'].fillna(0, inplace=True)\n",
    "# drop the first 24 hours\n",
    "dataset = dataset[24:]\n",
    "# summarize first 5 rows\n",
    "print(dataset.head(5))\n",
    "# save to file\n",
    "dataset.to_csv('pollution.csv')"
   ]
  },
  {
   "cell_type": "code",
   "execution_count": 12,
   "id": "44de4bd6",
   "metadata": {},
   "outputs": [
    {
     "name": "stdout",
     "output_type": "stream",
     "text": [
      "   var1(t-1)  var2(t-1)  var3(t-1)  var4(t-1)  var5(t-1)  var6(t-1)  \\\n",
      "1   0.129779   0.352941   0.245902   0.527273   0.666667   0.002290   \n",
      "2   0.148893   0.367647   0.245902   0.527273   0.666667   0.003811   \n",
      "3   0.159960   0.426471   0.229508   0.545454   0.666667   0.005332   \n",
      "4   0.182093   0.485294   0.229508   0.563637   0.666667   0.008391   \n",
      "5   0.138833   0.485294   0.229508   0.563637   0.666667   0.009912   \n",
      "\n",
      "   var7(t-1)  var8(t-1)   var1(t)  \n",
      "1   0.000000        0.0  0.148893  \n",
      "2   0.000000        0.0  0.159960  \n",
      "3   0.000000        0.0  0.182093  \n",
      "4   0.037037        0.0  0.138833  \n",
      "5   0.074074        0.0  0.109658  \n"
     ]
    }
   ],
   "source": [
    " \n",
    "# load dataset\n",
    "dataset = read_csv('pollution.csv', header=0, index_col=0)\n",
    "values = dataset.values\n",
    "# integer encode direction\n",
    "encoder = LabelEncoder()\n",
    "values[:,4] = encoder.fit_transform(values[:,4])\n",
    "# ensure all data is float\n",
    "values = values.astype('float32')\n",
    "# normalize features\n",
    "scaler = MinMaxScaler(feature_range=(0, 1))\n",
    "scaled = scaler.fit_transform(values)\n",
    "# frame as supervised learning\n",
    "reframed = series_to_supervised(scaled, 1, 1)\n",
    "# drop columns we don't want to predict\n",
    "reframed.drop(reframed.columns[[9,10,11,12,13,14,15]], axis=1, inplace=True)\n",
    "print(reframed.head())"
   ]
  },
  {
   "cell_type": "code",
   "execution_count": 13,
   "id": "6753f9a9",
   "metadata": {},
   "outputs": [
    {
     "name": "stdout",
     "output_type": "stream",
     "text": [
      "(8760, 1, 8) (8760,) (35039, 1, 8) (35039,)\n"
     ]
    }
   ],
   "source": [
    " # split into train and test sets\n",
    "values = reframed.values\n",
    "n_train_hours = 365 * 24\n",
    "train = values[:n_train_hours, :]\n",
    "test = values[n_train_hours:, :]\n",
    "# split into input and outputs\n",
    "train_X, train_y = train[:, :-1], train[:, -1]\n",
    "test_X, test_y = test[:, :-1], test[:, -1]\n",
    "# reshape input to be 3D [samples, timesteps, features]\n",
    "train_X = train_X.reshape((train_X.shape[0], 1, train_X.shape[1]))\n",
    "test_X = test_X.reshape((test_X.shape[0], 1, test_X.shape[1]))\n",
    "print(train_X.shape, train_y.shape, test_X.shape, test_y.shape)"
   ]
  },
  {
   "cell_type": "code",
   "execution_count": 14,
   "id": "12b22b16",
   "metadata": {},
   "outputs": [
    {
     "name": "stderr",
     "output_type": "stream",
     "text": [
      "2022-03-09 13:31:20.576467: I tensorflow/stream_executor/cuda/cuda_gpu_executor.cc:939] successful NUMA node read from SysFS had negative value (-1), but there must be at least one NUMA node, so returning NUMA node zero\n",
      "2022-03-09 13:31:20.637362: I tensorflow/stream_executor/cuda/cuda_gpu_executor.cc:939] successful NUMA node read from SysFS had negative value (-1), but there must be at least one NUMA node, so returning NUMA node zero\n",
      "2022-03-09 13:31:20.637929: I tensorflow/stream_executor/cuda/cuda_gpu_executor.cc:939] successful NUMA node read from SysFS had negative value (-1), but there must be at least one NUMA node, so returning NUMA node zero\n",
      "2022-03-09 13:31:20.638870: I tensorflow/core/platform/cpu_feature_guard.cc:151] This TensorFlow binary is optimized with oneAPI Deep Neural Network Library (oneDNN) to use the following CPU instructions in performance-critical operations:  SSE4.1 SSE4.2 AVX AVX2 FMA\n",
      "To enable them in other operations, rebuild TensorFlow with the appropriate compiler flags.\n",
      "2022-03-09 13:31:20.639592: I tensorflow/stream_executor/cuda/cuda_gpu_executor.cc:939] successful NUMA node read from SysFS had negative value (-1), but there must be at least one NUMA node, so returning NUMA node zero\n",
      "2022-03-09 13:31:20.640113: I tensorflow/stream_executor/cuda/cuda_gpu_executor.cc:939] successful NUMA node read from SysFS had negative value (-1), but there must be at least one NUMA node, so returning NUMA node zero\n",
      "2022-03-09 13:31:20.640777: I tensorflow/stream_executor/cuda/cuda_gpu_executor.cc:939] successful NUMA node read from SysFS had negative value (-1), but there must be at least one NUMA node, so returning NUMA node zero\n",
      "2022-03-09 13:31:21.129510: I tensorflow/stream_executor/cuda/cuda_gpu_executor.cc:939] successful NUMA node read from SysFS had negative value (-1), but there must be at least one NUMA node, so returning NUMA node zero\n",
      "2022-03-09 13:31:21.129918: I tensorflow/stream_executor/cuda/cuda_gpu_executor.cc:939] successful NUMA node read from SysFS had negative value (-1), but there must be at least one NUMA node, so returning NUMA node zero\n",
      "2022-03-09 13:31:21.130283: I tensorflow/stream_executor/cuda/cuda_gpu_executor.cc:939] successful NUMA node read from SysFS had negative value (-1), but there must be at least one NUMA node, so returning NUMA node zero\n",
      "2022-03-09 13:31:21.130611: I tensorflow/core/common_runtime/gpu/gpu_device.cc:1525] Created device /job:localhost/replica:0/task:0/device:GPU:0 with 3768 MB memory:  -> device: 0, name: GeForce RTX 2060, pci bus id: 0000:06:00.0, compute capability: 7.5\n"
     ]
    },
    {
     "name": "stdout",
     "output_type": "stream",
     "text": [
      "Epoch 1/50\n"
     ]
    },
    {
     "name": "stderr",
     "output_type": "stream",
     "text": [
      "2022-03-09 13:31:23.268668: I tensorflow/stream_executor/cuda/cuda_dnn.cc:366] Loaded cuDNN version 8201\n"
     ]
    },
    {
     "name": "stdout",
     "output_type": "stream",
     "text": [
      "122/122 - 4s - loss: 0.0542 - val_loss: 0.0615 - 4s/epoch - 35ms/step\n",
      "Epoch 2/50\n",
      "122/122 - 1s - loss: 0.0360 - val_loss: 0.0632 - 1s/epoch - 9ms/step\n",
      "Epoch 3/50\n",
      "122/122 - 1s - loss: 0.0228 - val_loss: 0.0506 - 1s/epoch - 9ms/step\n",
      "Epoch 4/50\n",
      "122/122 - 1s - loss: 0.0179 - val_loss: 0.0416 - 1s/epoch - 9ms/step\n",
      "Epoch 5/50\n",
      "122/122 - 1s - loss: 0.0159 - val_loss: 0.0250 - 1s/epoch - 10ms/step\n",
      "Epoch 6/50\n",
      "122/122 - 1s - loss: 0.0151 - val_loss: 0.0199 - 1s/epoch - 10ms/step\n",
      "Epoch 7/50\n",
      "122/122 - 1s - loss: 0.0149 - val_loss: 0.0182 - 1s/epoch - 9ms/step\n",
      "Epoch 8/50\n",
      "122/122 - 1s - loss: 0.0148 - val_loss: 0.0171 - 1s/epoch - 9ms/step\n",
      "Epoch 9/50\n",
      "122/122 - 1s - loss: 0.0147 - val_loss: 0.0166 - 1s/epoch - 9ms/step\n",
      "Epoch 10/50\n",
      "122/122 - 1s - loss: 0.0148 - val_loss: 0.0160 - 1s/epoch - 9ms/step\n",
      "Epoch 11/50\n",
      "122/122 - 1s - loss: 0.0146 - val_loss: 0.0155 - 1s/epoch - 9ms/step\n",
      "Epoch 12/50\n",
      "122/122 - 1s - loss: 0.0146 - val_loss: 0.0159 - 1s/epoch - 10ms/step\n",
      "Epoch 13/50\n",
      "122/122 - 1s - loss: 0.0146 - val_loss: 0.0155 - 1s/epoch - 9ms/step\n",
      "Epoch 14/50\n",
      "122/122 - 1s - loss: 0.0146 - val_loss: 0.0150 - 1s/epoch - 9ms/step\n",
      "Epoch 15/50\n",
      "122/122 - 1s - loss: 0.0145 - val_loss: 0.0148 - 1s/epoch - 9ms/step\n",
      "Epoch 16/50\n",
      "122/122 - 1s - loss: 0.0145 - val_loss: 0.0154 - 1s/epoch - 9ms/step\n",
      "Epoch 17/50\n",
      "122/122 - 1s - loss: 0.0147 - val_loss: 0.0145 - 1s/epoch - 9ms/step\n",
      "Epoch 18/50\n",
      "122/122 - 1s - loss: 0.0145 - val_loss: 0.0149 - 1s/epoch - 9ms/step\n",
      "Epoch 19/50\n",
      "122/122 - 1s - loss: 0.0146 - val_loss: 0.0145 - 1s/epoch - 9ms/step\n",
      "Epoch 20/50\n",
      "122/122 - 1s - loss: 0.0143 - val_loss: 0.0138 - 1s/epoch - 9ms/step\n",
      "Epoch 21/50\n",
      "122/122 - 1s - loss: 0.0144 - val_loss: 0.0138 - 1s/epoch - 9ms/step\n",
      "Epoch 22/50\n",
      "122/122 - 1s - loss: 0.0144 - val_loss: 0.0139 - 1s/epoch - 9ms/step\n",
      "Epoch 23/50\n",
      "122/122 - 1s - loss: 0.0145 - val_loss: 0.0145 - 1s/epoch - 10ms/step\n",
      "Epoch 24/50\n",
      "122/122 - 1s - loss: 0.0145 - val_loss: 0.0147 - 1s/epoch - 9ms/step\n",
      "Epoch 25/50\n",
      "122/122 - 1s - loss: 0.0145 - val_loss: 0.0144 - 1s/epoch - 9ms/step\n",
      "Epoch 26/50\n",
      "122/122 - 1s - loss: 0.0145 - val_loss: 0.0146 - 1s/epoch - 9ms/step\n",
      "Epoch 27/50\n",
      "122/122 - 1s - loss: 0.0145 - val_loss: 0.0141 - 1s/epoch - 9ms/step\n",
      "Epoch 28/50\n",
      "122/122 - 1s - loss: 0.0143 - val_loss: 0.0139 - 1s/epoch - 9ms/step\n",
      "Epoch 29/50\n",
      "122/122 - 1s - loss: 0.0143 - val_loss: 0.0138 - 1s/epoch - 10ms/step\n",
      "Epoch 30/50\n",
      "122/122 - 1s - loss: 0.0143 - val_loss: 0.0138 - 1s/epoch - 9ms/step\n",
      "Epoch 31/50\n",
      "122/122 - 1s - loss: 0.0146 - val_loss: 0.0142 - 1s/epoch - 10ms/step\n",
      "Epoch 32/50\n",
      "122/122 - 1s - loss: 0.0142 - val_loss: 0.0142 - 1s/epoch - 10ms/step\n",
      "Epoch 33/50\n",
      "122/122 - 1s - loss: 0.0145 - val_loss: 0.0140 - 1s/epoch - 10ms/step\n",
      "Epoch 34/50\n",
      "122/122 - 1s - loss: 0.0143 - val_loss: 0.0140 - 1s/epoch - 9ms/step\n",
      "Epoch 35/50\n",
      "122/122 - 1s - loss: 0.0145 - val_loss: 0.0140 - 1s/epoch - 10ms/step\n",
      "Epoch 36/50\n",
      "122/122 - 1s - loss: 0.0142 - val_loss: 0.0139 - 1s/epoch - 10ms/step\n",
      "Epoch 37/50\n",
      "122/122 - 1s - loss: 0.0143 - val_loss: 0.0138 - 1s/epoch - 10ms/step\n",
      "Epoch 38/50\n",
      "122/122 - 1s - loss: 0.0144 - val_loss: 0.0143 - 1s/epoch - 10ms/step\n",
      "Epoch 39/50\n",
      "122/122 - 1s - loss: 0.0145 - val_loss: 0.0146 - 1s/epoch - 10ms/step\n",
      "Epoch 40/50\n",
      "122/122 - 1s - loss: 0.0143 - val_loss: 0.0147 - 1s/epoch - 9ms/step\n",
      "Epoch 41/50\n",
      "122/122 - 1s - loss: 0.0144 - val_loss: 0.0146 - 1s/epoch - 9ms/step\n",
      "Epoch 42/50\n",
      "122/122 - 1s - loss: 0.0144 - val_loss: 0.0146 - 1s/epoch - 9ms/step\n",
      "Epoch 43/50\n",
      "122/122 - 1s - loss: 0.0142 - val_loss: 0.0140 - 1s/epoch - 9ms/step\n",
      "Epoch 44/50\n",
      "122/122 - 1s - loss: 0.0145 - val_loss: 0.0141 - 1s/epoch - 9ms/step\n",
      "Epoch 45/50\n",
      "122/122 - 1s - loss: 0.0143 - val_loss: 0.0138 - 1s/epoch - 10ms/step\n",
      "Epoch 46/50\n",
      "122/122 - 1s - loss: 0.0142 - val_loss: 0.0138 - 1s/epoch - 10ms/step\n",
      "Epoch 47/50\n",
      "122/122 - 1s - loss: 0.0145 - val_loss: 0.0140 - 1s/epoch - 10ms/step\n",
      "Epoch 48/50\n",
      "122/122 - 1s - loss: 0.0145 - val_loss: 0.0138 - 1s/epoch - 9ms/step\n",
      "Epoch 49/50\n",
      "122/122 - 1s - loss: 0.0145 - val_loss: 0.0137 - 1s/epoch - 9ms/step\n",
      "Epoch 50/50\n",
      "122/122 - 1s - loss: 0.0142 - val_loss: 0.0138 - 1s/epoch - 9ms/step\n"
     ]
    },
    {
     "data": {
      "image/png": "[encoded data removed]",
      "text/plain": [
       "<Figure size 432x288 with 1 Axes>"
      ]
     },
     "metadata": {
      "needs_background": "light"
     },
     "output_type": "display_data"
    }
   ],
   "source": [
    "# design network\n",
    "model = Sequential()\n",
    "model.add(LSTM(50, input_shape=(train_X.shape[1], train_X.shape[2])))\n",
    "model.add(Dense(1))\n",
    "model.compile(loss='mae', optimizer='adam')\n",
    "# fit network\n",
    "history = model.fit(train_X, train_y, epochs=50, batch_size=72, validation_data=(test_X, test_y), verbose=2, shuffle=False)\n",
    "# plot history\n",
    "pyplot.plot(history.history['loss'], label='train')\n",
    "pyplot.plot(history.history['val_loss'], label='test')\n",
    "pyplot.legend()\n",
    "pyplot.show()"
   ]
  },
  {
   "cell_type": "code",
   "execution_count": null,
   "id": "28125126",
   "metadata": {},
   "outputs": [],
   "source": [
    "# make a prediction\n",
    "yhat = model.predict(test_X)\n",
    "test_X = test_X.reshape((test_X.shape[0], test_X.shape[2]))\n",
    "# invert scaling for forecast\n",
    "inv_yhat = concatenate((yhat, test_X[:, 1:]), axis=1)\n",
    "inv_yhat = scaler.inverse_transform(inv_yhat)\n",
    "inv_yhat = inv_yhat[:,0]\n",
    "# invert scaling for actual\n",
    "test_y = test_y.reshape((len(test_y), 1))\n",
    "inv_y = concatenate((test_y, test_X[:, 1:]), axis=1)\n",
    "inv_y = scaler.inverse_transform(inv_y)\n",
    "inv_y = inv_y[:,0]\n",
    "# calculate RMSE\n",
    "rmse = sqrt(mean_squared_error(inv_y, inv_yhat))\n",
    "print('Test RMSE: %.3f' % rmse)"
   ]
  }
 ],
 "metadata": {
  "kernelspec": {
   "display_name": "LSTM",
   "language": "python",
   "name": "lstm"
  },
  "language_info": {
   "codemirror_mode": {
    "name": "ipython",
    "version": 3
   },
   "file_extension": ".py",
   "mimetype": "text/x-python",
   "name": "python",
   "nbconvert_exporter": "python",
   "pygments_lexer": "ipython3",
   "version": "3.8.12"
  }
 },
 "nbformat": 4,
 "nbformat_minor": 5
}
