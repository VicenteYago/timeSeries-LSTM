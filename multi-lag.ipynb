{
 "cells": [
  {
   "cell_type": "code",
   "execution_count": 1,
   "id": "d3de7f53",
   "metadata": {},
   "outputs": [],
   "source": [
    "from math import sqrt\n",
    "from numpy import concatenate\n",
    "from matplotlib import pyplot\n",
    "from pandas import read_csv\n",
    "from pandas import DataFrame\n",
    "from pandas import concat\n",
    "from sklearn.preprocessing import MinMaxScaler\n",
    "from sklearn.preprocessing import LabelEncoder\n",
    "from sklearn.metrics import mean_squared_error\n",
    "from keras.models import Sequential\n",
    "from keras.layers import Dense\n",
    "from keras.layers import LSTM"
   ]
  },
  {
   "cell_type": "code",
   "execution_count": 2,
   "id": "44d5cd53",
   "metadata": {},
   "outputs": [],
   "source": [
    "# convert series to supervised learning\n",
    "def series_to_supervised(data, n_in=1, n_out=1, dropnan=True):\n",
    "\tn_vars = 1 if type(data) is list else data.shape[1]\n",
    "\tdf = DataFrame(data)\n",
    "\tcols, names = list(), list()\n",
    "\t# input sequence (t-n, ... t-1)\n",
    "\tfor i in range(n_in, 0, -1):\n",
    "\t\tcols.append(df.shift(i))\n",
    "\t\tnames += [('var%d(t-%d)' % (j+1, i)) for j in range(n_vars)]\n",
    "\t# forecast sequence (t, t+1, ... t+n)\n",
    "\tfor i in range(0, n_out):\n",
    "\t\tcols.append(df.shift(-i))\n",
    "\t\tif i == 0:\n",
    "\t\t\tnames += [('var%d(t)' % (j+1)) for j in range(n_vars)]\n",
    "\t\telse:\n",
    "\t\t\tnames += [('var%d(t+%d)' % (j+1, i)) for j in range(n_vars)]\n",
    "\t# put it all together\n",
    "\tagg = concat(cols, axis=1)\n",
    "\tagg.columns = names\n",
    "\t# drop rows with NaN values\n",
    "\tif dropnan:\n",
    "\t\tagg.dropna(inplace=True)\n",
    "\treturn agg"
   ]
  },
  {
   "cell_type": "code",
   "execution_count": 3,
   "id": "6bf8200d",
   "metadata": {},
   "outputs": [
    {
     "name": "stdout",
     "output_type": "stream",
     "text": [
      "(43797, 32)\n"
     ]
    }
   ],
   "source": [
    "# load dataset\n",
    "dataset = read_csv('pollution.csv', header=0, index_col=0)\n",
    "values = dataset.values\n",
    "# integer encode direction\n",
    "encoder = LabelEncoder()\n",
    "values[:,4] = encoder.fit_transform(values[:,4])\n",
    "# ensure all data is float\n",
    "values = values.astype('float32')\n",
    "# normalize features\n",
    "scaler = MinMaxScaler(feature_range=(0, 1))\n",
    "scaled = scaler.fit_transform(values)\n",
    "# specify the number of lag hours\n",
    "n_hours = 3\n",
    "n_features = 8\n",
    "# frame as supervised learning\n",
    "reframed = series_to_supervised(scaled, n_hours, 1)\n",
    "print(reframed.shape)"
   ]
  },
  {
   "cell_type": "code",
   "execution_count": 4,
   "id": "54b72e59",
   "metadata": {},
   "outputs": [
    {
     "name": "stdout",
     "output_type": "stream",
     "text": [
      "(8760, 24) 8760 (8760,)\n",
      "(8760, 3, 8) (8760,) (35037, 3, 8) (35037,)\n"
     ]
    }
   ],
   "source": [
    "# split into train and test sets\n",
    "values = reframed.values\n",
    "n_train_hours = 365 * 24\n",
    "train = values[:n_train_hours, :]\n",
    "test = values[n_train_hours:, :]\n",
    "# split into input and outputs\n",
    "n_obs = n_hours * n_features\n",
    "train_X, train_y = train[:, :n_obs], train[:, -n_features]\n",
    "test_X, test_y = test[:, :n_obs], test[:, -n_features]\n",
    "print(train_X.shape, len(train_X), train_y.shape)\n",
    "# reshape input to be 3D [samples, timesteps, features]\n",
    "train_X = train_X.reshape((train_X.shape[0], n_hours, n_features))\n",
    "test_X = test_X.reshape((test_X.shape[0], n_hours, n_features))\n",
    "print(train_X.shape, train_y.shape, test_X.shape, test_y.shape)"
   ]
  },
  {
   "cell_type": "code",
   "execution_count": 5,
   "id": "acf62483",
   "metadata": {},
   "outputs": [
    {
     "name": "stderr",
     "output_type": "stream",
     "text": [
      "2022-03-09 17:09:44.252446: I tensorflow/stream_executor/cuda/cuda_gpu_executor.cc:939] successful NUMA node read from SysFS had negative value (-1), but there must be at least one NUMA node, so returning NUMA node zero\n",
      "2022-03-09 17:09:44.288224: I tensorflow/stream_executor/cuda/cuda_gpu_executor.cc:939] successful NUMA node read from SysFS had negative value (-1), but there must be at least one NUMA node, so returning NUMA node zero\n",
      "2022-03-09 17:09:44.288704: I tensorflow/stream_executor/cuda/cuda_gpu_executor.cc:939] successful NUMA node read from SysFS had negative value (-1), but there must be at least one NUMA node, so returning NUMA node zero\n",
      "2022-03-09 17:09:44.290118: I tensorflow/core/platform/cpu_feature_guard.cc:151] This TensorFlow binary is optimized with oneAPI Deep Neural Network Library (oneDNN) to use the following CPU instructions in performance-critical operations:  SSE4.1 SSE4.2 AVX AVX2 FMA\n",
      "To enable them in other operations, rebuild TensorFlow with the appropriate compiler flags.\n",
      "2022-03-09 17:09:44.290692: I tensorflow/stream_executor/cuda/cuda_gpu_executor.cc:939] successful NUMA node read from SysFS had negative value (-1), but there must be at least one NUMA node, so returning NUMA node zero\n",
      "2022-03-09 17:09:44.291089: I tensorflow/stream_executor/cuda/cuda_gpu_executor.cc:939] successful NUMA node read from SysFS had negative value (-1), but there must be at least one NUMA node, so returning NUMA node zero\n",
      "2022-03-09 17:09:44.291470: I tensorflow/stream_executor/cuda/cuda_gpu_executor.cc:939] successful NUMA node read from SysFS had negative value (-1), but there must be at least one NUMA node, so returning NUMA node zero\n",
      "2022-03-09 17:09:44.774874: I tensorflow/stream_executor/cuda/cuda_gpu_executor.cc:939] successful NUMA node read from SysFS had negative value (-1), but there must be at least one NUMA node, so returning NUMA node zero\n",
      "2022-03-09 17:09:44.775287: I tensorflow/stream_executor/cuda/cuda_gpu_executor.cc:939] successful NUMA node read from SysFS had negative value (-1), but there must be at least one NUMA node, so returning NUMA node zero\n",
      "2022-03-09 17:09:44.775655: I tensorflow/stream_executor/cuda/cuda_gpu_executor.cc:939] successful NUMA node read from SysFS had negative value (-1), but there must be at least one NUMA node, so returning NUMA node zero\n",
      "2022-03-09 17:09:44.775988: I tensorflow/core/common_runtime/gpu/gpu_device.cc:1525] Created device /job:localhost/replica:0/task:0/device:GPU:0 with 3859 MB memory:  -> device: 0, name: GeForce RTX 2060, pci bus id: 0000:06:00.0, compute capability: 7.5\n"
     ]
    },
    {
     "name": "stdout",
     "output_type": "stream",
     "text": [
      "Epoch 1/50\n"
     ]
    },
    {
     "name": "stderr",
     "output_type": "stream",
     "text": [
      "2022-03-09 17:09:46.416319: I tensorflow/stream_executor/cuda/cuda_dnn.cc:366] Loaded cuDNN version 8201\n"
     ]
    },
    {
     "name": "stdout",
     "output_type": "stream",
     "text": [
      "122/122 - 4s - loss: 0.0553 - val_loss: 0.0957 - 4s/epoch - 30ms/step\n",
      "Epoch 2/50\n",
      "122/122 - 1s - loss: 0.0280 - val_loss: 0.0447 - 1s/epoch - 10ms/step\n",
      "Epoch 3/50\n",
      "122/122 - 1s - loss: 0.0220 - val_loss: 0.0288 - 1s/epoch - 9ms/step\n",
      "Epoch 4/50\n",
      "122/122 - 1s - loss: 0.0213 - val_loss: 0.0242 - 1s/epoch - 10ms/step\n",
      "Epoch 5/50\n",
      "122/122 - 1s - loss: 0.0208 - val_loss: 0.0230 - 1s/epoch - 9ms/step\n",
      "Epoch 6/50\n",
      "122/122 - 1s - loss: 0.0202 - val_loss: 0.0204 - 1s/epoch - 10ms/step\n",
      "Epoch 7/50\n",
      "122/122 - 1s - loss: 0.0198 - val_loss: 0.0195 - 1s/epoch - 10ms/step\n",
      "Epoch 8/50\n",
      "122/122 - 1s - loss: 0.0195 - val_loss: 0.0184 - 1s/epoch - 10ms/step\n",
      "Epoch 9/50\n",
      "122/122 - 1s - loss: 0.0190 - val_loss: 0.0178 - 1s/epoch - 9ms/step\n",
      "Epoch 10/50\n",
      "122/122 - 1s - loss: 0.0187 - val_loss: 0.0175 - 1s/epoch - 10ms/step\n",
      "Epoch 11/50\n",
      "122/122 - 1s - loss: 0.0180 - val_loss: 0.0173 - 1s/epoch - 10ms/step\n",
      "Epoch 12/50\n",
      "122/122 - 1s - loss: 0.0179 - val_loss: 0.0171 - 1s/epoch - 9ms/step\n",
      "Epoch 13/50\n",
      "122/122 - 1s - loss: 0.0174 - val_loss: 0.0169 - 1s/epoch - 9ms/step\n",
      "Epoch 14/50\n",
      "122/122 - 1s - loss: 0.0171 - val_loss: 0.0172 - 1s/epoch - 10ms/step\n",
      "Epoch 15/50\n",
      "122/122 - 1s - loss: 0.0168 - val_loss: 0.0176 - 1s/epoch - 9ms/step\n",
      "Epoch 16/50\n",
      "122/122 - 1s - loss: 0.0163 - val_loss: 0.0168 - 1s/epoch - 10ms/step\n",
      "Epoch 17/50\n",
      "122/122 - 1s - loss: 0.0161 - val_loss: 0.0167 - 1s/epoch - 10ms/step\n",
      "Epoch 18/50\n",
      "122/122 - 1s - loss: 0.0159 - val_loss: 0.0165 - 1s/epoch - 10ms/step\n",
      "Epoch 19/50\n",
      "122/122 - 1s - loss: 0.0155 - val_loss: 0.0167 - 1s/epoch - 9ms/step\n",
      "Epoch 20/50\n",
      "122/122 - 1s - loss: 0.0153 - val_loss: 0.0160 - 1s/epoch - 10ms/step\n",
      "Epoch 21/50\n",
      "122/122 - 1s - loss: 0.0151 - val_loss: 0.0167 - 1s/epoch - 9ms/step\n",
      "Epoch 22/50\n",
      "122/122 - 1s - loss: 0.0151 - val_loss: 0.0163 - 1s/epoch - 10ms/step\n",
      "Epoch 23/50\n",
      "122/122 - 1s - loss: 0.0150 - val_loss: 0.0159 - 1s/epoch - 10ms/step\n",
      "Epoch 24/50\n",
      "122/122 - 1s - loss: 0.0149 - val_loss: 0.0159 - 1s/epoch - 9ms/step\n",
      "Epoch 25/50\n",
      "122/122 - 1s - loss: 0.0148 - val_loss: 0.0158 - 1s/epoch - 10ms/step\n",
      "Epoch 26/50\n",
      "122/122 - 1s - loss: 0.0148 - val_loss: 0.0159 - 1s/epoch - 9ms/step\n",
      "Epoch 27/50\n",
      "122/122 - 1s - loss: 0.0147 - val_loss: 0.0163 - 1s/epoch - 9ms/step\n",
      "Epoch 28/50\n",
      "122/122 - 1s - loss: 0.0147 - val_loss: 0.0168 - 1s/epoch - 9ms/step\n",
      "Epoch 29/50\n",
      "122/122 - 1s - loss: 0.0145 - val_loss: 0.0168 - 1s/epoch - 10ms/step\n",
      "Epoch 30/50\n",
      "122/122 - 1s - loss: 0.0147 - val_loss: 0.0160 - 1s/epoch - 9ms/step\n",
      "Epoch 31/50\n",
      "122/122 - 1s - loss: 0.0147 - val_loss: 0.0163 - 1s/epoch - 9ms/step\n",
      "Epoch 32/50\n",
      "122/122 - 1s - loss: 0.0146 - val_loss: 0.0160 - 1s/epoch - 9ms/step\n",
      "Epoch 33/50\n",
      "122/122 - 1s - loss: 0.0146 - val_loss: 0.0159 - 1s/epoch - 10ms/step\n",
      "Epoch 34/50\n",
      "122/122 - 1s - loss: 0.0145 - val_loss: 0.0157 - 1s/epoch - 9ms/step\n",
      "Epoch 35/50\n",
      "122/122 - 1s - loss: 0.0146 - val_loss: 0.0157 - 1s/epoch - 9ms/step\n",
      "Epoch 36/50\n",
      "122/122 - 1s - loss: 0.0146 - val_loss: 0.0152 - 1s/epoch - 9ms/step\n",
      "Epoch 37/50\n",
      "122/122 - 1s - loss: 0.0145 - val_loss: 0.0150 - 1s/epoch - 9ms/step\n",
      "Epoch 38/50\n",
      "122/122 - 1s - loss: 0.0145 - val_loss: 0.0154 - 1s/epoch - 9ms/step\n",
      "Epoch 39/50\n",
      "122/122 - 1s - loss: 0.0145 - val_loss: 0.0154 - 1s/epoch - 9ms/step\n",
      "Epoch 40/50\n",
      "122/122 - 1s - loss: 0.0144 - val_loss: 0.0151 - 1s/epoch - 9ms/step\n",
      "Epoch 41/50\n",
      "122/122 - 1s - loss: 0.0145 - val_loss: 0.0153 - 1s/epoch - 9ms/step\n",
      "Epoch 42/50\n",
      "122/122 - 1s - loss: 0.0144 - val_loss: 0.0150 - 1s/epoch - 9ms/step\n",
      "Epoch 43/50\n",
      "122/122 - 1s - loss: 0.0144 - val_loss: 0.0147 - 1s/epoch - 10ms/step\n",
      "Epoch 44/50\n",
      "122/122 - 1s - loss: 0.0144 - val_loss: 0.0148 - 1s/epoch - 9ms/step\n",
      "Epoch 45/50\n",
      "122/122 - 1s - loss: 0.0144 - val_loss: 0.0153 - 1s/epoch - 9ms/step\n",
      "Epoch 46/50\n",
      "122/122 - 1s - loss: 0.0144 - val_loss: 0.0151 - 1s/epoch - 10ms/step\n",
      "Epoch 47/50\n",
      "122/122 - 1s - loss: 0.0145 - val_loss: 0.0145 - 1s/epoch - 9ms/step\n",
      "Epoch 48/50\n",
      "122/122 - 1s - loss: 0.0143 - val_loss: 0.0142 - 1s/epoch - 10ms/step\n",
      "Epoch 49/50\n",
      "122/122 - 1s - loss: 0.0143 - val_loss: 0.0143 - 1s/epoch - 10ms/step\n",
      "Epoch 50/50\n",
      "122/122 - 1s - loss: 0.0143 - val_loss: 0.0143 - 1s/epoch - 9ms/step\n"
     ]
    },
    {
     "data": {
      "image/png": "[encoded data removed]",
      "text/plain": [
       "<Figure size 432x288 with 1 Axes>"
      ]
     },
     "metadata": {
      "needs_background": "light"
     },
     "output_type": "display_data"
    },
    {
     "name": "stdout",
     "output_type": "stream",
     "text": [
      "Test RMSE: 26.809\n"
     ]
    }
   ],
   "source": [
    "# design network\n",
    "model = Sequential()\n",
    "model.add(LSTM(50, input_shape=(train_X.shape[1], train_X.shape[2])))\n",
    "model.add(Dense(1))\n",
    "model.compile(loss='mae', optimizer='adam')\n",
    "# fit network\n",
    "history = model.fit(train_X, train_y, epochs=50, batch_size=72, validation_data=(test_X, test_y), verbose=2, shuffle=False)\n",
    "# plot history\n",
    "pyplot.plot(history.history['loss'], label='train')\n",
    "pyplot.plot(history.history['val_loss'], label='test')\n",
    "pyplot.legend()\n",
    "pyplot.show()\n",
    "\n",
    "# make a prediction\n",
    "yhat = model.predict(test_X)\n",
    "test_X = test_X.reshape((test_X.shape[0], n_hours*n_features))\n",
    "# invert scaling for forecast\n",
    "inv_yhat = concatenate((yhat, test_X[:, -7:]), axis=1)\n",
    "inv_yhat = scaler.inverse_transform(inv_yhat)\n",
    "inv_yhat = inv_yhat[:,0]\n",
    "# invert scaling for actual\n",
    "test_y = test_y.reshape((len(test_y), 1))\n",
    "inv_y = concatenate((test_y, test_X[:, -7:]), axis=1)\n",
    "inv_y = scaler.inverse_transform(inv_y)\n",
    "inv_y = inv_y[:,0]\n",
    "# calculate RMSE\n",
    "rmse = sqrt(mean_squared_error(inv_y, inv_yhat))\n",
    "print('Test RMSE: %.3f' % rmse)"
   ]
  }
 ],
 "metadata": {
  "kernelspec": {
   "display_name": "LSTM",
   "language": "python",
   "name": "lstm"
  },
  "language_info": {
   "codemirror_mode": {
    "name": "ipython",
    "version": 3
   },
   "file_extension": ".py",
   "mimetype": "text/x-python",
   "name": "python",
   "nbconvert_exporter": "python",
   "pygments_lexer": "ipython3",
   "version": "3.8.12"
  }
 },
 "nbformat": 4,
 "nbformat_minor": 5
}
